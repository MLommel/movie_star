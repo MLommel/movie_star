{
 "cells": [
  {
   "cell_type": "markdown",
   "metadata": {},
   "source": [
    "# Recommender Systems\n",
    "<hr style=\"border:2px solid black\">"
   ]
  },
  {
   "cell_type": "markdown",
   "metadata": {},
   "source": [
    "## 1. Introduction"
   ]
  },
  {
   "cell_type": "markdown",
   "metadata": {},
   "source": [
    "### 1.1 What is a Recommender System?"
   ]
  },
  {
   "cell_type": "markdown",
   "metadata": {},
   "source": [
    "- system that provides a user with the most relevant information he/she is seeking\n",
    "- based on user’s preferences, interest, or observed behaviour about items\n",
    "- helps narrow down some options among an exponentially growing number of them \n",
    "- helps users discover products and services they might not have found on their own\n",
    "- at the heart of online platforfoms, e.g., YouTube, Amazon, Netflix, Spotify ..."
   ]
  },
  {
   "cell_type": "markdown",
   "metadata": {},
   "source": [
    "### 1.2 Recommender System Types"
   ]
  },
  {
   "cell_type": "markdown",
   "metadata": {},
   "source": [
    "**non-personalized**\n",
    "\n",
    "- provides with general recommendations to the user \n",
    "- without any context of what user wants or what their preferences are\n",
    "\n",
    "\n",
    "- *popularity based*\n",
    "    + \"other people really like this, therefore you'll probably like it too\"\n",
    "\n",
    "\n",
    "- *association based*\n",
    "    + \"people who bought this item, also bought that item\""
   ]
  },
  {
   "cell_type": "markdown",
   "metadata": {},
   "source": [
    "**collaborative filtering**\n",
    "\n",
    "- based on the past interactions recorded between users and items\n",
    "- can recommend an item to a user based on *similarity*\n",
    "\n",
    "\n",
    "- *model based*\n",
    "    + uses mathematical methods like\n",
    "        - singular value decomposition (SVD)\n",
    "        - non-negative matrix factorization (NMF)\n",
    "        \n",
    "\n",
    "- *memory (neighbourhood) based*\n",
    "    + uses similar (neighbourly) rating patterns, like cosine similarity"
   ]
  },
  {
   "cell_type": "markdown",
   "metadata": {},
   "source": [
    "**content-based filtering**\n",
    "\n",
    "- uses additional information about users and/or items, e.g., users' personal information\n",
    "- uses item features to recommend other items similar to what the user likes\n",
    "- based on their previous actions or explicit feedback"
   ]
  },
  {
   "cell_type": "markdown",
   "metadata": {},
   "source": [
    "**hybrid approaches**\n",
    "\n",
    "- combine the advantages of content-based and collaborative filtering"
   ]
  },
  {
   "cell_type": "markdown",
   "metadata": {},
   "source": [
    "**deep learning approaches**\n",
    "\n",
    "- collaborative filtering a neural network (*Restricted Boltzmann Machine*)\n",
    "- may outperform conventional recommender systems"
   ]
  },
  {
   "cell_type": "markdown",
   "metadata": {},
   "source": [
    "<hr style=\"border:2px solid black\">"
   ]
  },
  {
   "cell_type": "markdown",
   "metadata": {},
   "source": [
    "## References\n",
    "\n",
    "- [What is a Recommendation System? | Data Science - NVIDIA](https://www.nvidia.com/en-us/glossary/data-science/recommendation-system/#:~:text=A%20recommendation%20system%20(or%20recommender,exponentially%20growing%20number%20of%20options.)\n",
    "- [Non Personalised Recommender System in Python](https://medium.com/@tomar.ankur287/non-personalised-recommender-system-in-python-42921cd6f971)\n",
    "- [What is an RBM (Restricted Boltzmann Machine)?](https://www.youtube.com/watch?v=L3ynnRgpZwg)"
   ]
  }
 ],
 "metadata": {
  "kernelspec": {
   "display_name": "Python 3 (ipykernel)",
   "language": "python",
   "name": "python3"
  },
  "language_info": {
   "codemirror_mode": {
    "name": "ipython",
    "version": 3
   },
   "file_extension": ".py",
   "mimetype": "text/x-python",
   "name": "python",
   "nbconvert_exporter": "python",
   "pygments_lexer": "ipython3",
   "version": "3.10.6"
  }
 },
 "nbformat": 4,
 "nbformat_minor": 4
}
